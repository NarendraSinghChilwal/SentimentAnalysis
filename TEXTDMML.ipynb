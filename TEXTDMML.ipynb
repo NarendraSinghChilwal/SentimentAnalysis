{
 "cells": [
  {
   "cell_type": "code",
   "execution_count": 162,
   "id": "bf5796f2-6950-4fdc-b3c4-fea39a8054a9",
   "metadata": {},
   "outputs": [],
   "source": [
    "import pandas as pd\n",
    "import matplotlib.pyplot as plt\n",
    "import nltk\n",
    "from nltk.corpus import stopwords\n",
    "from nltk.tokenize import word_tokenize\n",
    "import string\n",
    "from sklearn.feature_extraction.text import TfidfVectorizer\n",
    "from sklearn.linear_model import LogisticRegression\n",
    "from sklearn.preprocessing import LabelEncoder\n",
    "from sklearn.model_selection import train_test_split\n",
    "from sklearn.ensemble import RandomForestClassifier\n",
    "from sklearn.metrics import classification_report, accuracy_score, cohen_kappa_score, mean_squared_error, confusion_matrix\n",
    "from sklearn.naive_bayes import MultinomialNB"
   ]
  },
  {
   "cell_type": "code",
   "execution_count": 163,
   "id": "208234e2-d664-43e1-aa60-afc0a5236c46",
   "metadata": {},
   "outputs": [
    {
     "data": {
      "text/html": [
       "<div>\n",
       "<style scoped>\n",
       "    .dataframe tbody tr th:only-of-type {\n",
       "        vertical-align: middle;\n",
       "    }\n",
       "\n",
       "    .dataframe tbody tr th {\n",
       "        vertical-align: top;\n",
       "    }\n",
       "\n",
       "    .dataframe thead th {\n",
       "        text-align: right;\n",
       "    }\n",
       "</style>\n",
       "<table border=\"1\" class=\"dataframe\">\n",
       "  <thead>\n",
       "    <tr style=\"text-align: right;\">\n",
       "      <th></th>\n",
       "      <th>Id</th>\n",
       "      <th>Title</th>\n",
       "      <th>Price</th>\n",
       "      <th>User_id</th>\n",
       "      <th>profileName</th>\n",
       "      <th>review/helpfulness</th>\n",
       "      <th>review/score</th>\n",
       "      <th>review/time</th>\n",
       "      <th>review/summary</th>\n",
       "      <th>review/text</th>\n",
       "    </tr>\n",
       "  </thead>\n",
       "  <tbody>\n",
       "    <tr>\n",
       "      <th>0</th>\n",
       "      <td>B000MUWROU</td>\n",
       "      <td>Wall Street Journal Edition, Standard Edition</td>\n",
       "      <td>NaN</td>\n",
       "      <td>AV7L6OIWSYWV2</td>\n",
       "      <td>Julie M. Chung \"JMC\"</td>\n",
       "      <td>1/8</td>\n",
       "      <td>1.0</td>\n",
       "      <td>1306454400</td>\n",
       "      <td>Collegebooksdirect</td>\n",
       "      <td>This rating has nothing to do with the book it...</td>\n",
       "    </tr>\n",
       "    <tr>\n",
       "      <th>1</th>\n",
       "      <td>B000MZ8P7S</td>\n",
       "      <td>CHANGE Of COMMAND.</td>\n",
       "      <td>NaN</td>\n",
       "      <td>NaN</td>\n",
       "      <td>NaN</td>\n",
       "      <td>4/4</td>\n",
       "      <td>1.0</td>\n",
       "      <td>945129600</td>\n",
       "      <td>Change of Command</td>\n",
       "      <td>I'm *so* glad that my local library had this b...</td>\n",
       "    </tr>\n",
       "    <tr>\n",
       "      <th>2</th>\n",
       "      <td>B000J409QW</td>\n",
       "      <td>Sister Carrie</td>\n",
       "      <td>NaN</td>\n",
       "      <td>A3RGCBO2FKD786</td>\n",
       "      <td>Andrew Whitman</td>\n",
       "      <td>3/4</td>\n",
       "      <td>1.0</td>\n",
       "      <td>1335916800</td>\n",
       "      <td>Sometimes Free is Too Expensive</td>\n",
       "      <td>Sometimes free is too expensive. A brief sampl...</td>\n",
       "    </tr>\n",
       "    <tr>\n",
       "      <th>3</th>\n",
       "      <td>B000N649VC</td>\n",
       "      <td>Sphere</td>\n",
       "      <td>NaN</td>\n",
       "      <td>A6H0N6D7KMVPM</td>\n",
       "      <td>liammail@optusnet.com.au</td>\n",
       "      <td>3/5</td>\n",
       "      <td>1.0</td>\n",
       "      <td>933552000</td>\n",
       "      <td>Utterly dire...stuff for 10 year olds.</td>\n",
       "      <td>This book is the first Crichton I've read and ...</td>\n",
       "    </tr>\n",
       "    <tr>\n",
       "      <th>4</th>\n",
       "      <td>B000NQM9CI</td>\n",
       "      <td>The Stand: The Complete and Uncut Edition (ISB...</td>\n",
       "      <td>NaN</td>\n",
       "      <td>NaN</td>\n",
       "      <td>NaN</td>\n",
       "      <td>14/37</td>\n",
       "      <td>1.0</td>\n",
       "      <td>1072569600</td>\n",
       "      <td>Overwrought,Overlong, Silly, End of the World ...</td>\n",
       "      <td>As with all of Stephen King's epic novel's the...</td>\n",
       "    </tr>\n",
       "    <tr>\n",
       "      <th>...</th>\n",
       "      <td>...</td>\n",
       "      <td>...</td>\n",
       "      <td>...</td>\n",
       "      <td>...</td>\n",
       "      <td>...</td>\n",
       "      <td>...</td>\n",
       "      <td>...</td>\n",
       "      <td>...</td>\n",
       "      <td>...</td>\n",
       "      <td>...</td>\n",
       "    </tr>\n",
       "    <tr>\n",
       "      <th>24995</th>\n",
       "      <td>1597370045</td>\n",
       "      <td>The Picture of Dorian Gray (Classic Collection...</td>\n",
       "      <td>87.25</td>\n",
       "      <td>A1BE1OKY80FUBH</td>\n",
       "      <td>Pink Panther</td>\n",
       "      <td>1/1</td>\n",
       "      <td>5.0</td>\n",
       "      <td>1172275200</td>\n",
       "      <td>One of the best</td>\n",
       "      <td>The Picture of Dorian Gray is one the masterpi...</td>\n",
       "    </tr>\n",
       "    <tr>\n",
       "      <th>24996</th>\n",
       "      <td>1566044634</td>\n",
       "      <td>The Comprehensive Guide to Lingo: Creating Int...</td>\n",
       "      <td>49.99</td>\n",
       "      <td>AYRL0GZ168OZC</td>\n",
       "      <td>Manuel Gutierrez</td>\n",
       "      <td>0/0</td>\n",
       "      <td>5.0</td>\n",
       "      <td>966816000</td>\n",
       "      <td>Great Book</td>\n",
       "      <td>Nothing like this book in the market. This boo...</td>\n",
       "    </tr>\n",
       "    <tr>\n",
       "      <th>24997</th>\n",
       "      <td>B00072QUO6</td>\n",
       "      <td>Zen training: Methods and philosophy</td>\n",
       "      <td>NaN</td>\n",
       "      <td>A3VQIDI2794BBZ</td>\n",
       "      <td>D. A. Waterman</td>\n",
       "      <td>5/5</td>\n",
       "      <td>5.0</td>\n",
       "      <td>1159488000</td>\n",
       "      <td>Best zen book I've ever read</td>\n",
       "      <td>I learned to do zazen from this book a long ti...</td>\n",
       "    </tr>\n",
       "    <tr>\n",
       "      <th>24998</th>\n",
       "      <td>B000MUBEFI</td>\n",
       "      <td>Beginning Java Objects: From Concepts To Code,...</td>\n",
       "      <td>NaN</td>\n",
       "      <td>AGYPM02ESOEHZ</td>\n",
       "      <td>W Brandes</td>\n",
       "      <td>8/9</td>\n",
       "      <td>5.0</td>\n",
       "      <td>1020124800</td>\n",
       "      <td>Excellent book for explaining the O-O paradigm</td>\n",
       "      <td>This book enabled me to understand O-O concept...</td>\n",
       "    </tr>\n",
       "    <tr>\n",
       "      <th>24999</th>\n",
       "      <td>B000NWQXBA</td>\n",
       "      <td>The Hobbit</td>\n",
       "      <td>NaN</td>\n",
       "      <td>A3VS0DGKYVJEIF</td>\n",
       "      <td>K. Fuehrer \"K Fuehrer\"</td>\n",
       "      <td>1/1</td>\n",
       "      <td>5.0</td>\n",
       "      <td>1354320000</td>\n",
       "      <td>Amazing</td>\n",
       "      <td>For those who play online fantasy games, this ...</td>\n",
       "    </tr>\n",
       "  </tbody>\n",
       "</table>\n",
       "<p>25000 rows × 10 columns</p>\n",
       "</div>"
      ],
      "text/plain": [
       "               Id                                              Title  Price  \\\n",
       "0      B000MUWROU      Wall Street Journal Edition, Standard Edition    NaN   \n",
       "1      B000MZ8P7S                                 CHANGE Of COMMAND.    NaN   \n",
       "2      B000J409QW                                      Sister Carrie    NaN   \n",
       "3      B000N649VC                                             Sphere    NaN   \n",
       "4      B000NQM9CI  The Stand: The Complete and Uncut Edition (ISB...    NaN   \n",
       "...           ...                                                ...    ...   \n",
       "24995  1597370045  The Picture of Dorian Gray (Classic Collection...  87.25   \n",
       "24996  1566044634  The Comprehensive Guide to Lingo: Creating Int...  49.99   \n",
       "24997  B00072QUO6               Zen training: Methods and philosophy    NaN   \n",
       "24998  B000MUBEFI  Beginning Java Objects: From Concepts To Code,...    NaN   \n",
       "24999  B000NWQXBA                                         The Hobbit    NaN   \n",
       "\n",
       "              User_id               profileName review/helpfulness  \\\n",
       "0       AV7L6OIWSYWV2      Julie M. Chung \"JMC\"                1/8   \n",
       "1                 NaN                       NaN                4/4   \n",
       "2      A3RGCBO2FKD786            Andrew Whitman                3/4   \n",
       "3       A6H0N6D7KMVPM  liammail@optusnet.com.au                3/5   \n",
       "4                 NaN                       NaN              14/37   \n",
       "...               ...                       ...                ...   \n",
       "24995  A1BE1OKY80FUBH              Pink Panther                1/1   \n",
       "24996   AYRL0GZ168OZC          Manuel Gutierrez                0/0   \n",
       "24997  A3VQIDI2794BBZ            D. A. Waterman                5/5   \n",
       "24998   AGYPM02ESOEHZ                 W Brandes                8/9   \n",
       "24999  A3VS0DGKYVJEIF    K. Fuehrer \"K Fuehrer\"                1/1   \n",
       "\n",
       "       review/score  review/time  \\\n",
       "0               1.0   1306454400   \n",
       "1               1.0    945129600   \n",
       "2               1.0   1335916800   \n",
       "3               1.0    933552000   \n",
       "4               1.0   1072569600   \n",
       "...             ...          ...   \n",
       "24995           5.0   1172275200   \n",
       "24996           5.0    966816000   \n",
       "24997           5.0   1159488000   \n",
       "24998           5.0   1020124800   \n",
       "24999           5.0   1354320000   \n",
       "\n",
       "                                          review/summary  \\\n",
       "0                                     Collegebooksdirect   \n",
       "1                                      Change of Command   \n",
       "2                        Sometimes Free is Too Expensive   \n",
       "3                 Utterly dire...stuff for 10 year olds.   \n",
       "4      Overwrought,Overlong, Silly, End of the World ...   \n",
       "...                                                  ...   \n",
       "24995                                    One of the best   \n",
       "24996                                         Great Book   \n",
       "24997                       Best zen book I've ever read   \n",
       "24998     Excellent book for explaining the O-O paradigm   \n",
       "24999                                            Amazing   \n",
       "\n",
       "                                             review/text  \n",
       "0      This rating has nothing to do with the book it...  \n",
       "1      I'm *so* glad that my local library had this b...  \n",
       "2      Sometimes free is too expensive. A brief sampl...  \n",
       "3      This book is the first Crichton I've read and ...  \n",
       "4      As with all of Stephen King's epic novel's the...  \n",
       "...                                                  ...  \n",
       "24995  The Picture of Dorian Gray is one the masterpi...  \n",
       "24996  Nothing like this book in the market. This boo...  \n",
       "24997  I learned to do zazen from this book a long ti...  \n",
       "24998  This book enabled me to understand O-O concept...  \n",
       "24999  For those who play online fantasy games, this ...  \n",
       "\n",
       "[25000 rows x 10 columns]"
      ]
     },
     "execution_count": 163,
     "metadata": {},
     "output_type": "execute_result"
    }
   ],
   "source": [
    "df= pd.read_csv(\"C:\\\\Users\\\\ADMIN\\\\OneDrive\\\\Desktop\\\\downsampled_reviews.csv\")\n",
    "df"
   ]
  },
  {
   "cell_type": "markdown",
   "id": "46b57326-6f88-4c4d-807c-9a8a05ae6224",
   "metadata": {},
   "source": [
    "# EXPLORATORY DATA ANALYSIS"
   ]
  },
  {
   "cell_type": "code",
   "execution_count": 165,
   "id": "1b78382e-1bda-4382-82b3-d42cff13f8ef",
   "metadata": {},
   "outputs": [
    {
     "data": {
      "text/plain": [
       "Id                        0\n",
       "Title                     2\n",
       "Price                 21082\n",
       "User_id                4838\n",
       "profileName            4838\n",
       "review/helpfulness        0\n",
       "review/score              0\n",
       "review/time               0\n",
       "review/summary            4\n",
       "review/text               0\n",
       "dtype: int64"
      ]
     },
     "execution_count": 165,
     "metadata": {},
     "output_type": "execute_result"
    }
   ],
   "source": [
    "df.isna().sum()"
   ]
  },
  {
   "cell_type": "code",
   "execution_count": 166,
   "id": "d0179641-80f5-4eec-b61a-41471cdefa30",
   "metadata": {},
   "outputs": [
    {
     "name": "stdout",
     "output_type": "stream",
     "text": [
      "<class 'pandas.core.frame.DataFrame'>\n",
      "RangeIndex: 25000 entries, 0 to 24999\n",
      "Data columns (total 2 columns):\n",
      " #   Column        Non-Null Count  Dtype  \n",
      "---  ------        --------------  -----  \n",
      " 0   review/score  25000 non-null  float64\n",
      " 1   review/text   25000 non-null  object \n",
      "dtypes: float64(1), object(1)\n",
      "memory usage: 390.8+ KB\n",
      "review/score\n",
      "1.0    5000\n",
      "2.0    5000\n",
      "3.0    5000\n",
      "4.0    5000\n",
      "5.0    5000\n",
      "Name: count, dtype: int64\n"
     ]
    }
   ],
   "source": [
    "df_relevant = df[['review/score','review/text']].copy()\n",
    "df_relevant.info()\n",
    "print(df['review/score'].value_counts())"
   ]
  },
  {
   "cell_type": "code",
   "execution_count": 167,
   "id": "362921b2-f847-4e45-b815-569ab8b72e7b",
   "metadata": {},
   "outputs": [],
   "source": [
    "#Reducing the sample size for rating 3.0 to maintain balance as it is somewhat neutral and hence will confuse the model\n",
    "# Separate rows with review/score of 3.0\n",
    "rows_3 = df_relevant[df_relevant['review/score'] == 3.0]\n",
    "\n",
    "# Randomly sample 1000 rows with review/score of 3.0\n",
    "rows_3_sampled = rows_3.sample(n=1000, random_state=23316144)\n",
    "\n",
    "# Select the remaining rows that are not 3.0\n",
    "rows_not_3 = df_relevant[df_relevant['review/score'] != 3.0]\n",
    "\n",
    "# Concatenate the sampled 3.0 rows with the non-3.0 rows\n",
    "df_relevant = pd.concat([rows_not_3, rows_3_sampled])\n",
    "\n",
    "# Reset the index\n",
    "df_relevant.reset_index(drop=True, inplace=True)"
   ]
  },
  {
   "cell_type": "code",
   "execution_count": 168,
   "id": "43bb0b63-509b-45ca-8657-adc59b229cd5",
   "metadata": {},
   "outputs": [
    {
     "name": "stdout",
     "output_type": "stream",
     "text": [
      "Original dataset size: (21000, 3)\n",
      "Filtered dataset size: (10525, 2)\n"
     ]
    }
   ],
   "source": [
    "#This step is for Data preparation but was done in EDA to explore only the meaningful data.\n",
    "import re\n",
    "\n",
    "# Function to check if a review is written in English\n",
    "def is_english(text):\n",
    "    # Check if the text contains only English alphabets, numbers, and common punctuation\n",
    "    return bool(re.match(r'^[a-zA-Z0-9\\s.,!?\\'\"-]+$', text))\n",
    "\n",
    "# Apply the filter to the 'review/text' column\n",
    "df_relevant['is_english'] = df_relevant['review/text'].apply(is_english)\n",
    "\n",
    "# Filter out non-English reviews\n",
    "df_english = df_relevant[df_relevant['is_english']]\n",
    "\n",
    "# Drop the helper column if not needed\n",
    "df_english = df_english.drop(columns=['is_english'])\n",
    "\n",
    "# Check the resulting dataset\n",
    "print(f\"Original dataset size: {df_relevant.shape}\")\n",
    "print(f\"Filtered dataset size: {df_english.shape}\")"
   ]
  },
  {
   "cell_type": "code",
   "execution_count": 169,
   "id": "d90053c6-5f47-42c5-9a9e-5a49bff8bcf0",
   "metadata": {},
   "outputs": [
    {
     "name": "stdout",
     "output_type": "stream",
     "text": [
      "sentiment\n",
      "Positive    5857\n",
      "Negative    4668\n",
      "Name: count, dtype: int64\n"
     ]
    }
   ],
   "source": [
    "#This step is for Data preparation but was done in EDA to explore only the meaningful data.\n",
    "# Classifying the review score [Positive, Neutral, Negative]\n",
    "def classify_sentiment(score):\n",
    "    if score >= 3.0:\n",
    "        return 'Positive'\n",
    "    else:\n",
    "        return 'Negative'\n",
    "\n",
    "# Apply the classification function to the 'review/score' column\n",
    "df_english['sentiment'] = df_english['review/score'].apply(classify_sentiment)\n",
    "\n",
    "# Check the distribution of sentiments\n",
    "print(df_english['sentiment'].value_counts())\n"
   ]
  },
  {
   "cell_type": "code",
   "execution_count": 170,
   "id": "1661a91b-e31c-4761-9f33-ddf92a6ae5c5",
   "metadata": {},
   "outputs": [
    {
     "name": "stdout",
     "output_type": "stream",
     "text": [
      "      sentiment                                        review/text\n",
      "0      Negative  This rating has nothing to do with the book it...\n",
      "3      Negative  This book is the first Crichton I've read and ...\n",
      "6      Negative  Not worth the cost of the book. It's only 24-2...\n",
      "7      Negative  I was going over the options chapter, a very c...\n",
      "10     Negative  There is nothing valuable about this book any ...\n",
      "...         ...                                                ...\n",
      "20990  Positive  it was ok the the heroine charater begin to ge...\n",
      "20992  Positive  This is certainly not the definitive Bruce bio...\n",
      "20994  Positive  I read this book years ago, and it gripped me ...\n",
      "20995  Positive  Just finished \"24 Essential Lessons for Invest...\n",
      "20998  Positive  I wanted to buy a book that would help me appl...\n",
      "\n",
      "[10525 rows x 2 columns]\n"
     ]
    }
   ],
   "source": [
    "# Create a table summarizing reviews with their sentiment\n",
    "summary_table = df_english[['sentiment', 'review/text']].copy()\n",
    "print(summary_table)"
   ]
  },
  {
   "cell_type": "code",
   "execution_count": 171,
   "id": "b1619a49-6b98-4dca-af35-15e2574d2126",
   "metadata": {},
   "outputs": [
    {
     "data": {
      "image/png": "[encoded data removed]",
      "text/plain": [
       "<Figure size 640x480 with 1 Axes>"
      ]
     },
     "metadata": {},
     "output_type": "display_data"
    }
   ],
   "source": [
    "# Plot the distribution of review scores\n",
    "summary_table['sentiment'].value_counts().sort_index().plot(kind='bar', title='Review Score Distribution')\n",
    "plt.xlabel('Sentiment')\n",
    "plt.ylabel('Frequency')\n",
    "plt.show()\n"
   ]
  },
  {
   "cell_type": "code",
   "execution_count": 172,
   "id": "1269273f-db73-4563-80d9-1484d416641d",
   "metadata": {},
   "outputs": [
    {
     "data": {
      "image/png": "[encoded data removed]",
      "text/plain": [
       "<Figure size 800x500 with 1 Axes>"
      ]
     },
     "metadata": {},
     "output_type": "display_data"
    }
   ],
   "source": [
    "# Calculate word counts for visualization\n",
    "word_counts = summary_table['review/text'].apply(lambda x: len(x.split()))\n",
    "\n",
    "# Plot the word count distribution\n",
    "plt.figure(figsize=(8, 5))\n",
    "plt.hist(word_counts, bins=30, edgecolor='black')\n",
    "plt.title('Word Count Distribution')\n",
    "plt.xlabel('Word Count')\n",
    "plt.ylabel('Frequency')\n",
    "plt.show()\n"
   ]
  },
  {
   "cell_type": "markdown",
   "id": "d4912c51-ab36-406f-b80e-e0ffe8569ac2",
   "metadata": {},
   "source": [
    "# DATA PREPARATION"
   ]
  },
  {
   "cell_type": "code",
   "execution_count": 174,
   "id": "7a440805-bcb9-4fb6-943d-d0594420bcec",
   "metadata": {},
   "outputs": [
    {
     "name": "stdout",
     "output_type": "stream",
     "text": [
      "0     rating nothing book reflection low quality sel...\n",
      "3     book first crichton ive read absolutely last w...\n",
      "6     worth cost book 2428 pages long merely recap j...\n",
      "7     going options chapter critical part series 7 m...\n",
      "10    nothing valuable book except table contents mi...\n",
      "Name: review/text, dtype: object\n"
     ]
    }
   ],
   "source": [
    "# Initialize stop words and punctuation\n",
    "stop_words = set(stopwords.words('english'))\n",
    "\n",
    "# Preprocessing function using NLTK\n",
    "def preprocess_text(text):\n",
    "    # Lowercase the text\n",
    "    text = text.lower()\n",
    "    # Remove punctuation\n",
    "    text = text.translate(str.maketrans('', '', string.punctuation))\n",
    "    # Tokenize the text\n",
    "    tokens = word_tokenize(text)\n",
    "    # Remove stop words\n",
    "    tokens = [word for word in tokens if word not in stop_words]\n",
    "    # Join tokens back to a string\n",
    "    return ' '.join(tokens)\n",
    "\n",
    "# Apply preprocessing to the 'review/text' column\n",
    "summary_table['review/text'] = summary_table['review/text'].apply(preprocess_text)\n",
    "\n",
    "# Display a few rows to verify the changes\n",
    "print(summary_table['review/text'].head())\n"
   ]
  },
  {
   "cell_type": "code",
   "execution_count": 175,
   "id": "ae7f411a-d2b1-4807-b6d9-6a7fdecf8381",
   "metadata": {},
   "outputs": [
    {
     "name": "stdout",
     "output_type": "stream",
     "text": [
      "TF-IDF matrix shape: (10525, 5000)\n"
     ]
    }
   ],
   "source": [
    "#Vectorization\n",
    "# Initialize TF-IDF vectorizer\n",
    "vectorizer = TfidfVectorizer(max_features=5000)  # Adjust max_features as needed\n",
    "\n",
    "# Apply TF-IDF transformation to the preprocessed text\n",
    "X = vectorizer.fit_transform(summary_table['review/text'])\n",
    "\n",
    "# Display the shape of the resulting TF-IDF matrix\n",
    "print(f\"TF-IDF matrix shape: {X.shape}\")"
   ]
  },
  {
   "cell_type": "code",
   "execution_count": 176,
   "id": "4b343e7e-9cb5-4e23-ad00-3783317af299",
   "metadata": {},
   "outputs": [
    {
     "name": "stdout",
     "output_type": "stream",
     "text": [
      "Training set size: (8420, 5000)\n",
      "Testing set size: (2105, 5000)\n"
     ]
    }
   ],
   "source": [
    "#Splitting the dataset 80-20\n",
    "\n",
    "X_train, X_test, y_train, y_test = train_test_split(X, summary_table['sentiment'], test_size=0.2, random_state=42)\n",
    "\n",
    "# Verify the sizes of the splits\n",
    "print(f\"Training set size: {X_train.shape}\")\n",
    "print(f\"Testing set size: {X_test.shape}\")\n"
   ]
  },
  {
   "cell_type": "code",
   "execution_count": 177,
   "id": "f26b7acb-cc67-4534-ba71-1800ab763b78",
   "metadata": {},
   "outputs": [
    {
     "name": "stdout",
     "output_type": "stream",
     "text": [
      "Class mapping: {0: 'Negative', 1: 'Positive'}\n"
     ]
    }
   ],
   "source": [
    "# Encode the target variable\n",
    "encoder = LabelEncoder()\n",
    "y_train = encoder.fit_transform(y_train)\n",
    "y_test = encoder.transform(y_test)\n",
    "\n",
    "# Check the mapping\n",
    "print(\"Class mapping:\", dict(enumerate(encoder.classes_)))"
   ]
  },
  {
   "cell_type": "markdown",
   "id": "60849e38-c578-4c7a-8bce-36ad3bae9bb1",
   "metadata": {},
   "source": [
    "# MODELLING\n",
    "\n",
    "1)Logistic Regression"
   ]
  },
  {
   "cell_type": "code",
   "execution_count": 179,
   "id": "774d8a5c-9e72-4df2-8b4d-127cdc3bc9a1",
   "metadata": {},
   "outputs": [
    {
     "name": "stdout",
     "output_type": "stream",
     "text": [
      "Accuracy: 0.8137767220902613\n",
      "\n",
      "Classification Report:\n",
      "              precision    recall  f1-score   support\n",
      "\n",
      "    Negative       0.82      0.74      0.78       935\n",
      "    Positive       0.81      0.87      0.84      1170\n",
      "\n",
      "    accuracy                           0.81      2105\n",
      "   macro avg       0.82      0.81      0.81      2105\n",
      "weighted avg       0.81      0.81      0.81      2105\n",
      "\n",
      "\n",
      "Cohen's Kappa: 0.6190889451040493\n",
      "RMSE: 0.43153595204772766\n",
      "RSS: 392\n"
     ]
    },
    {
     "name": "stderr",
     "output_type": "stream",
     "text": [
      "C:\\Users\\ADMIN\\anaconda3\\Lib\\site-packages\\sklearn\\metrics\\_regression.py:483: FutureWarning: 'squared' is deprecated in version 1.4 and will be removed in 1.6. To calculate the root mean squared error, use the function'root_mean_squared_error'.\n",
      "  warnings.warn(\n"
     ]
    }
   ],
   "source": [
    "# Train a logistic regression model\n",
    "model = LogisticRegression(max_iter=1000, random_state=42)\n",
    "model.fit(X_train, y_train)\n",
    "\n",
    "# Make predictions on the test set\n",
    "y_pred = model.predict(X_test)\n",
    "\n",
    "# Evaluate the model: Accuracy and Classification Report\n",
    "print(\"Accuracy:\", accuracy_score(y_test, y_pred))\n",
    "print(\"\\nClassification Report:\")\n",
    "print(classification_report(y_test, y_pred, target_names=encoder.classes_))\n",
    "\n",
    "# Cohen's Kappa\n",
    "kappa = cohen_kappa_score(y_test, y_pred)\n",
    "print(\"\\nCohen's Kappa:\", kappa)\n",
    "\n",
    "# RMSE (Root Mean Squared Error)\n",
    "rmse = mean_squared_error(y_test, y_pred, squared=False)\n",
    "print(\"RMSE:\", rmse)\n",
    "\n",
    "# RSS (Residual Sum of Squares)\n",
    "rss = ((y_test - y_pred) ** 2).sum()\n",
    "print(\"RSS:\", rss)\n"
   ]
  },
  {
   "cell_type": "markdown",
   "id": "595a3b71-85ba-46d8-bea9-18989afd9ecc",
   "metadata": {},
   "source": [
    "2)Naive Bayes"
   ]
  },
  {
   "cell_type": "code",
   "execution_count": 181,
   "id": "14d5dc50-c9b0-4ad0-8ca1-bcc4cb1b8c2f",
   "metadata": {},
   "outputs": [
    {
     "name": "stdout",
     "output_type": "stream",
     "text": [
      "Naive Bayes Accuracy: 0.804750593824228\n",
      "\n",
      "Classification Report for Naive Bayes:\n",
      "              precision    recall  f1-score   support\n",
      "\n",
      "    Negative       0.83      0.71      0.76       935\n",
      "    Positive       0.79      0.88      0.83      1170\n",
      "\n",
      "    accuracy                           0.80      2105\n",
      "   macro avg       0.81      0.80      0.80      2105\n",
      "weighted avg       0.81      0.80      0.80      2105\n",
      "\n",
      "\n",
      "Cohen's Kappa for Naive Bayes: 0.5987547392952799\n",
      "RMSE for Naive Bayes: 0.4418703499622621\n",
      "RSS for Naive Bayes: 411\n"
     ]
    },
    {
     "name": "stderr",
     "output_type": "stream",
     "text": [
      "C:\\Users\\ADMIN\\anaconda3\\Lib\\site-packages\\sklearn\\metrics\\_regression.py:483: FutureWarning: 'squared' is deprecated in version 1.4 and will be removed in 1.6. To calculate the root mean squared error, use the function'root_mean_squared_error'.\n",
      "  warnings.warn(\n"
     ]
    }
   ],
   "source": [
    "# Initialize the Naive Bayes model\n",
    "nb_model = MultinomialNB()\n",
    "\n",
    "# Train the model on the training data\n",
    "nb_model.fit(X_train, y_train)\n",
    "\n",
    "# Make predictions on the test data\n",
    "y_pred_nb = nb_model.predict(X_test)\n",
    "\n",
    "# Model Evaluation\n",
    "print(\"Naive Bayes Accuracy:\", accuracy_score(y_test, y_pred_nb))\n",
    "print(\"\\nClassification Report for Naive Bayes:\")\n",
    "print(classification_report(y_test, y_pred_nb, target_names=encoder.classes_))\n",
    "\n",
    "# Cohen's Kappa\n",
    "kappa_nb = cohen_kappa_score(y_test, y_pred_nb)\n",
    "print(\"\\nCohen's Kappa for Naive Bayes:\", kappa_nb)\n",
    "\n",
    "# RMSE (Root Mean Squared Error)\n",
    "rmse_nb = mean_squared_error(y_test, y_pred_nb, squared=False)\n",
    "print(\"RMSE for Naive Bayes:\", rmse_nb)\n",
    "\n",
    "# RSS (Residual Sum of Squares)\n",
    "rss_nb = ((y_test - y_pred_nb) ** 2).sum()\n",
    "print(\"RSS for Naive Bayes:\", rss_nb)"
   ]
  },
  {
   "cell_type": "markdown",
   "id": "794b9de8-985d-4078-86e8-7636590ce544",
   "metadata": {},
   "source": [
    "3) Random Forest Claasifier"
   ]
  },
  {
   "cell_type": "code",
   "execution_count": 183,
   "id": "7fd1f812-2d1a-4bdb-a7a6-57717f1944c1",
   "metadata": {},
   "outputs": [
    {
     "name": "stdout",
     "output_type": "stream",
     "text": [
      "Random Forest Accuracy: 0.7833729216152019\n",
      "\n",
      "Classification Report for Random Forest:\n",
      "              precision    recall  f1-score   support\n",
      "\n",
      "    Negative       0.78      0.71      0.75       935\n",
      "    Positive       0.79      0.84      0.81      1170\n",
      "\n",
      "    accuracy                           0.78      2105\n",
      "   macro avg       0.78      0.78      0.78      2105\n",
      "weighted avg       0.78      0.78      0.78      2105\n",
      "\n",
      "\n",
      "Cohen's Kappa for Random Forest: 0.5575713159750549\n",
      "RMSE for Random Forest: 0.4654321415467545\n",
      "RSS for Random Forest: 456\n"
     ]
    },
    {
     "name": "stderr",
     "output_type": "stream",
     "text": [
      "C:\\Users\\ADMIN\\anaconda3\\Lib\\site-packages\\sklearn\\metrics\\_regression.py:483: FutureWarning: 'squared' is deprecated in version 1.4 and will be removed in 1.6. To calculate the root mean squared error, use the function'root_mean_squared_error'.\n",
      "  warnings.warn(\n"
     ]
    }
   ],
   "source": [
    "# Initialize the Random Forest model\n",
    "rf_model = RandomForestClassifier(n_estimators=100, random_state=23316144, class_weight='balanced')\n",
    "\n",
    "# Train the model on the training data\n",
    "rf_model.fit(X_train, y_train)\n",
    "\n",
    "# Make predictions on the test set\n",
    "y_pred_rf = rf_model.predict(X_test)\n",
    "\n",
    "# Evaluate the model: Accuracy and Classification Report\n",
    "print(\"Random Forest Accuracy:\", accuracy_score(y_test, y_pred_rf))\n",
    "print(\"\\nClassification Report for Random Forest:\")\n",
    "print(classification_report(y_test, y_pred_rf, target_names=encoder.classes_))\n",
    "\n",
    "# Cohen's Kappa\n",
    "kappa_rf = cohen_kappa_score(y_test, y_pred_rf)\n",
    "print(\"\\nCohen's Kappa for Random Forest:\", kappa_rf)\n",
    "\n",
    "# RMSE (Root Mean Squared Error)\n",
    "rmse_rf = mean_squared_error(y_test, y_pred_rf, squared=False)\n",
    "print(\"RMSE for Random Forest:\", rmse_rf)\n",
    "\n",
    "# RSS (Residual Sum of Squares)\n",
    "rss_rf = ((y_test - y_pred_rf) ** 2).sum()\n",
    "print(\"RSS for Random Forest:\", rss_rf)"
   ]
  },
  {
   "cell_type": "code",
   "execution_count": null,
   "id": "6e9adbbd-e47b-4d8e-8cdd-fa2674a5439d",
   "metadata": {},
   "outputs": [],
   "source": []
  }
 ],
 "metadata": {
  "kernelspec": {
   "display_name": "Python 3 (ipykernel)",
   "language": "python",
   "name": "python3"
  },
  "language_info": {
   "codemirror_mode": {
    "name": "ipython",
    "version": 3
   },
   "file_extension": ".py",
   "mimetype": "text/x-python",
   "name": "python",
   "nbconvert_exporter": "python",
   "pygments_lexer": "ipython3",
   "version": "3.12.4"
  }
 },
 "nbformat": 4,
 "nbformat_minor": 5
}
